{
 "cells": [
  {
   "cell_type": "markdown",
   "id": "0787fcab",
   "metadata": {},
   "source": [
    "## Linked List"
   ]
  },
  {
   "cell_type": "markdown",
   "id": "40983566",
   "metadata": {},
   "source": [
    "### Python program to show the implementation of the linked list  "
   ]
  },
  {
   "cell_type": "code",
   "execution_count": 1,
   "id": "d9d70cf3",
   "metadata": {},
   "outputs": [],
   "source": [
    "# Creating a node class  \n",
    "class Node:  \n",
    "    def __init__(self, value):  \n",
    "        self.value = value  \n",
    "        self.next = None  "
   ]
  },
  {
   "cell_type": "code",
   "execution_count": 2,
   "id": "35e58aa1",
   "metadata": {},
   "outputs": [],
   "source": [
    "# Creating a linked list class  \n",
    "class LinkedList:  \n",
    "    def __init__(self):  \n",
    "        self.head = None  "
   ]
  },
  {
   "cell_type": "code",
   "execution_count": 3,
   "id": "b7cabcb9",
   "metadata": {},
   "outputs": [],
   "source": [
    "# Initializing a linked list  \n",
    "list_ = LinkedList()  "
   ]
  },
  {
   "cell_type": "code",
   "execution_count": 4,
   "id": "84c0ddc3",
   "metadata": {},
   "outputs": [],
   "source": [
    "# Creating the nodes  \n",
    "list_.head = Node(\"Python\")  \n",
    "second_node = Node(\"Tutorial\")  \n",
    "third_node = Node(\"Data Structures\")  "
   ]
  },
  {
   "cell_type": "code",
   "execution_count": 5,
   "id": "d9e418af",
   "metadata": {},
   "outputs": [],
   "source": [
    "# Connecting the nodes  \n",
    "list_.head.next = second_node  \n",
    "second_node.next = third_node  "
   ]
  },
  {
   "cell_type": "code",
   "execution_count": 6,
   "id": "46d6b450",
   "metadata": {},
   "outputs": [
    {
     "name": "stdout",
     "output_type": "stream",
     "text": [
      "Python\n",
      "Tutorial\n",
      "Data Structures\n"
     ]
    }
   ],
   "source": [
    "# Printing the linked list  \n",
    "while list_.head != None:  \n",
    "    print(list_.head.value, end = \"\\n\")  \n",
    "    list_.head = list_.head.next  "
   ]
  },
  {
   "cell_type": "markdown",
   "id": "e664bc15",
   "metadata": {},
   "source": [
    "### Python programs to show linked list operations   "
   ]
  },
  {
   "cell_type": "code",
   "execution_count": 7,
   "id": "1e2c14e4",
   "metadata": {},
   "outputs": [],
   "source": [
    "# Creating a node class  \n",
    "class Node:  \n",
    "    def __init__(self, value):  \n",
    "        self.value = value  \n",
    "        self.next = None  "
   ]
  },
  {
   "cell_type": "code",
   "execution_count": 8,
   "id": "17e28da0",
   "metadata": {},
   "outputs": [],
   "source": [
    "# Creating a linked list class  \n",
    "class Linked_List:  \n",
    "    def __init__(self):  \n",
    "        self.head = None  "
   ]
  },
  {
   "cell_type": "code",
   "execution_count": 10,
   "id": "3e0ea2f6",
   "metadata": {},
   "outputs": [],
   "source": [
    "  # Inserting a node at the beginning of the list  \n",
    "def insertInBeginning(self, value):  \n",
    "    insertion_node = Node(value)  \n",
    "    insertion_node.next = self.head  \n",
    "    self.head = insertion_node  "
   ]
  },
  {
   "cell_type": "code",
   "execution_count": 12,
   "id": "17e38a88",
   "metadata": {},
   "outputs": [],
   "source": [
    "# Inserting a node after a particular node  \n",
    "def insertAfterNode(self, previous_node, value):  \n",
    "    if previous_node is None:  \n",
    "        print(\"There is no previous node. Make a new head.\")  \n",
    "        return  "
   ]
  },
  {
   "cell_type": "code",
   "execution_count": 15,
   "id": "c0939648",
   "metadata": {},
   "outputs": [
    {
     "ename": "NameError",
     "evalue": "name 'value' is not defined",
     "output_type": "error",
     "traceback": [
      "\u001b[1;31m---------------------------------------------------------------------------\u001b[0m",
      "\u001b[1;31mNameError\u001b[0m                                 Traceback (most recent call last)",
      "Cell \u001b[1;32mIn[15], line 1\u001b[0m\n\u001b[1;32m----> 1\u001b[0m insertion_node \u001b[38;5;241m=\u001b[39m Node(\u001b[43mvalue\u001b[49m)  \n\u001b[0;32m      2\u001b[0m insertion_node\u001b[38;5;241m.\u001b[39mnext \u001b[38;5;241m=\u001b[39m previous_node\u001b[38;5;241m.\u001b[39mnext  \n\u001b[0;32m      3\u001b[0m previous_node\u001b[38;5;241m.\u001b[39mnext \u001b[38;5;241m=\u001b[39m insertion_node  \n",
      "\u001b[1;31mNameError\u001b[0m: name 'value' is not defined"
     ]
    }
   ],
   "source": [
    "insertion_node = Node(value)  \n",
    "insertion_node.next = previous_node.next  \n",
    "previous_node.next = insertion_node  "
   ]
  },
  {
   "cell_type": "code",
   "execution_count": 16,
   "id": "80ad19a2",
   "metadata": {},
   "outputs": [],
   "source": [
    "# Inserting a node after a particular node  \n",
    "def insertAfterNode(self, previous_node, value):  \n",
    "    if previous_node is None:  \n",
    "        print(\"There is no previous node. Make a new head.\")  \n",
    "        return  \n",
    "  \n",
    "        insertion_node = Node(value)  \n",
    "        insertion_node.next = previous_node.next  \n",
    "        previous_node.next = insertion_node"
   ]
  },
  {
   "cell_type": "code",
   "execution_count": 18,
   "id": "50073728",
   "metadata": {},
   "outputs": [],
   "source": [
    "# Inserting the node at the end of the list  \n",
    "def insertInEnd(self, value):  \n",
    "    insertion_node = Node(value)  \n",
    "  \n",
    "    if self.head is None:  \n",
    "        self.head = insertion_node  \n",
    "        return  \n",
    "  \n",
    "    last_node = self.head  \n",
    "    while (last_node.next):  \n",
    "        last_node = last_node.next  \n",
    "  \n",
    "    last_node.next = insertion_node  "
   ]
  },
  {
   "cell_type": "code",
   "execution_count": 19,
   "id": "b4638ac8",
   "metadata": {},
   "outputs": [],
   "source": [
    " # Deleting a particular node   \n",
    "def deleteANode(self, pos):  \n",
    "  \n",
    "    if self.head is None:  \n",
    "        return  \n",
    "  \n",
    "    temporary = self.head  \n",
    "  \n",
    "    if pos == 0:  \n",
    "        self.head = temporary.next  \n",
    "        temporary = None  \n",
    "        return  "
   ]
  },
  {
   "cell_type": "code",
   "execution_count": 21,
   "id": "57f38618",
   "metadata": {},
   "outputs": [
    {
     "ename": "NameError",
     "evalue": "name 'pos' is not defined",
     "output_type": "error",
     "traceback": [
      "\u001b[1;31m---------------------------------------------------------------------------\u001b[0m",
      "\u001b[1;31mNameError\u001b[0m                                 Traceback (most recent call last)",
      "Cell \u001b[1;32mIn[21], line 2\u001b[0m\n\u001b[0;32m      1\u001b[0m \u001b[38;5;66;03m# Finding the key which is to be deleted  \u001b[39;00m\n\u001b[1;32m----> 2\u001b[0m \u001b[38;5;28;01mfor\u001b[39;00m i \u001b[38;5;129;01min\u001b[39;00m \u001b[38;5;28mrange\u001b[39m(\u001b[43mpos\u001b[49m \u001b[38;5;241m-\u001b[39m \u001b[38;5;241m1\u001b[39m):  \n\u001b[0;32m      3\u001b[0m     temporary \u001b[38;5;241m=\u001b[39m temporary\u001b[38;5;241m.\u001b[39mnext  \n\u001b[0;32m      4\u001b[0m     \u001b[38;5;28;01mif\u001b[39;00m temporary \u001b[38;5;129;01mis\u001b[39;00m \u001b[38;5;28;01mNone\u001b[39;00m:  \n",
      "\u001b[1;31mNameError\u001b[0m: name 'pos' is not defined"
     ]
    }
   ],
   "source": [
    "# Finding the key which is to be deleted  \n",
    "for i in range(pos - 1):  \n",
    "    temporary = temporary.next  \n",
    "    if temporary is None:  \n",
    "        break  "
   ]
  },
  {
   "cell_type": "code",
   "execution_count": 22,
   "id": "d2801409",
   "metadata": {},
   "outputs": [
    {
     "name": "stdout",
     "output_type": "stream",
     "text": [
      "Linked list:\n",
      "9 4 8 7 2 \n",
      "After deleting a node:\n",
      "9 4 7 2 \n",
      " 4 is found in the list\n",
      "Sorted Linked List: \n",
      "2 4 7 9 "
     ]
    }
   ],
   "source": [
    "# Python programs to show linked list operations   \n",
    "  \n",
    "# Creating a node class  \n",
    "class Node:  \n",
    "    def __init__(self, value):  \n",
    "        self.value = value  \n",
    "        self.next = None  \n",
    "  \n",
    "# Creating a linked list class  \n",
    "class Linked_List:  \n",
    "    def __init__(self):  \n",
    "        self.head = None  \n",
    "  \n",
    "    # Inserting a node at the beginning of the list  \n",
    "    def insertInBeginning(self, value):  \n",
    "        insertion_node = Node(value)  \n",
    "        insertion_node.next = self.head  \n",
    "        self.head = insertion_node  \n",
    "  \n",
    "    # Inserting a node after a particular node  \n",
    "    def insertAfterNode(self, previous_node, value):  \n",
    "        if previous_node is None:  \n",
    "            print(\"There is no previous node. Make a new head.\")  \n",
    "            return  \n",
    "  \n",
    "        insertion_node = Node(value)  \n",
    "        insertion_node.next = previous_node.next  \n",
    "        previous_node.next = insertion_node  \n",
    "  \n",
    "    # Inserting the node at the end of the list  \n",
    "    def insertInEnd(self, value):  \n",
    "        insertion_node = Node(value)  \n",
    "  \n",
    "        if self.head is None:  \n",
    "            self.head = insertion_node  \n",
    "            return  \n",
    "  \n",
    "        last_node = self.head  \n",
    "        while (last_node.next):  \n",
    "            last_node = last_node.next  \n",
    "  \n",
    "        last_node.next = insertion_node  \n",
    "  \n",
    "    # Deleting a particular node   \n",
    "    def deleteANode(self, pos):  \n",
    "  \n",
    "        if self.head is None:  \n",
    "            return  \n",
    "  \n",
    "        temporary = self.head  \n",
    "  \n",
    "        if pos == 0:  \n",
    "            self.head = temporary.next  \n",
    "            temporary = None  \n",
    "            return  \n",
    "  \n",
    "        # Finding the key which is to be deleted  \n",
    "        for i in range(pos - 1):  \n",
    "            temporary = temporary.next  \n",
    "            if temporary is None:  \n",
    "                break  \n",
    "  \n",
    "        # If the key is not in the list  \n",
    "        if temporary is None:  \n",
    "            return  \n",
    "  \n",
    "        if temporary.next is None:  \n",
    "            return  \n",
    "  \n",
    "        next_ = temporary.next.next  \n",
    "  \n",
    "        temporary.next = None  \n",
    "  \n",
    "        temporary.next = next_  \n",
    "  \n",
    "    # Searching an element in the list  \n",
    "    def search(self, key):  \n",
    "  \n",
    "        current_node = self.head  \n",
    "  \n",
    "        while current_node is not None:  \n",
    "            if current_node.value == key:  \n",
    "                return True  \n",
    "  \n",
    "            current_node = current_node.next  \n",
    "  \n",
    "        return False  \n",
    "  \n",
    "    # Sorting the linked list  \n",
    "    def sortList(self, head):  \n",
    "        current_node = head  \n",
    "        index_node = Node(None)  \n",
    "  \n",
    "        if head is None:  \n",
    "            return  \n",
    "        else:  \n",
    "            while current_node is not None:  \n",
    "                index_node = current_node.next  \n",
    "  \n",
    "                while index_node is not None:  \n",
    "                    if current_node.value > index_node.value:  \n",
    "                        current_node.value, index_node.value = index_node.value, current_node.value  \n",
    "  \n",
    "                    index_node = index_node.next  \n",
    "                current_node = current_node.next  \n",
    "  \n",
    "    # Printing the linked list  \n",
    "    def printLinkedList(self):  \n",
    "        temporary = self.head  \n",
    "        while (temporary):  \n",
    "            print(str(temporary.value) + \" \", end = \"\")  \n",
    "            temporary = temporary.next  \n",
    "  \n",
    "  \n",
    "if __name__ == '__main__':  \n",
    "  \n",
    "    listt = Linked_List()  \n",
    "    listt.insertInEnd(7)  \n",
    "    listt.insertInBeginning(4)  \n",
    "    listt.insertInBeginning(9)  \n",
    "    listt.insertInEnd(2)  \n",
    "    listt.insertAfterNode(listt.head.next, 8)  \n",
    "  \n",
    "    print('Linked list:')  \n",
    "    listt.printLinkedList()  \n",
    "  \n",
    "    print(\"\\nAfter deleting a node:\")  \n",
    "    listt.deleteANode(2)  \n",
    "    listt.printLinkedList()  \n",
    "  \n",
    "    value_to_find = 4  \n",
    "    if listt.search(value_to_find):  \n",
    "        print(\"\\n\", value_to_find, \"is found in the list\")  \n",
    "    else:  \n",
    "        print(\"\\n\", value_to_find, \" is not found in the list\")  \n",
    "  \n",
    "    listt.sortList(listt.head)  \n",
    "    print(\"Sorted Linked List: \")  \n",
    "    listt.printLinkedList()  "
   ]
  },
  {
   "cell_type": "code",
   "execution_count": null,
   "id": "044b6d1c",
   "metadata": {},
   "outputs": [],
   "source": []
  }
 ],
 "metadata": {
  "kernelspec": {
   "display_name": "Python 3 (ipykernel)",
   "language": "python",
   "name": "python3"
  },
  "language_info": {
   "codemirror_mode": {
    "name": "ipython",
    "version": 3
   },
   "file_extension": ".py",
   "mimetype": "text/x-python",
   "name": "python",
   "nbconvert_exporter": "python",
   "pygments_lexer": "ipython3",
   "version": "3.10.9"
  }
 },
 "nbformat": 4,
 "nbformat_minor": 5
}
