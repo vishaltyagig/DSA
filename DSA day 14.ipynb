{
 "cells": [
  {
   "cell_type": "markdown",
   "id": "7b783440",
   "metadata": {},
   "source": [
    "## Stack"
   ]
  },
  {
   "cell_type": "markdown",
   "id": "e8ed1a95",
   "metadata": {},
   "source": [
    "### Python program to show how to create a stack and implement the operations "
   ]
  },
  {
   "cell_type": "code",
   "execution_count": 2,
   "id": "189724d0",
   "metadata": {},
   "outputs": [
    {
     "name": "stdout",
     "output_type": "stream",
     "text": [
      "New stack after pushing:  [2]\n",
      "New stack after pushing:  [2, 5]\n",
      "New stack after pushing:  [2, 5, 3]\n",
      "New stack after pushing:  [2, 5, 3, 1]\n",
      "New stack after popping:  [2, 5, 3]\n",
      "Last element of the stack:  3\n"
     ]
    }
   ],
   "source": [
    "# Creating a stack  \n",
    "def create():  \n",
    "    new_stack = []  \n",
    "    return new_stack  \n",
    "  \n",
    "# To check if it is an empty stack  \n",
    "def check(stack):  \n",
    "    if len(stack) == 0:  \n",
    "        return True  \n",
    "    else:  \n",
    "        return False  \n",
    "  \n",
    "  \n",
    "# Adding new elements to the stack  \n",
    "def push(stack, value):  \n",
    "    stack.append(value)  \n",
    "    print(\"New stack after pushing: \", stack)  \n",
    "  \n",
    "  \n",
    "# Eleminating an item from the stack  \n",
    "def pop(stack):  \n",
    "    if (check(stack)):  \n",
    "        return \"Given Stack is Empty.\"  \n",
    "    stack.pop()  \n",
    "    print(\"New stack after popping: \", stack)  \n",
    "      \n",
    "# Peeking into the stack  \n",
    "def peek(stack):  \n",
    "    print(\"Last element of the stack: \", stack[-1])  \n",
    "\n",
    "# Driver code for the above methods  \n",
    "stack = create()  \n",
    "push(stack, 2)  \n",
    "push(stack, 5)  \n",
    "push(stack, 3)  \n",
    "push(stack, 1)  \n",
    "pop(stack)  \n",
    "peek(stack)  "
   ]
  },
  {
   "cell_type": "code",
   "execution_count": null,
   "id": "f2d5a0e2",
   "metadata": {},
   "outputs": [],
   "source": []
  }
 ],
 "metadata": {
  "kernelspec": {
   "display_name": "Python 3 (ipykernel)",
   "language": "python",
   "name": "python3"
  },
  "language_info": {
   "codemirror_mode": {
    "name": "ipython",
    "version": 3
   },
   "file_extension": ".py",
   "mimetype": "text/x-python",
   "name": "python",
   "nbconvert_exporter": "python",
   "pygments_lexer": "ipython3",
   "version": "3.10.9"
  }
 },
 "nbformat": 4,
 "nbformat_minor": 5
}
