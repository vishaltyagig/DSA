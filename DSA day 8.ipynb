{
 "cells": [
  {
   "cell_type": "markdown",
   "id": "d400ee12",
   "metadata": {},
   "source": [
    "## Binary Tree"
   ]
  },
  {
   "cell_type": "code",
   "execution_count": 1,
   "id": "0a586d67",
   "metadata": {},
   "outputs": [],
   "source": [
    "class Node:\n",
    "    def __init__(self, key):\n",
    "\n",
    "        self.left = None\n",
    "\n",
    "        self.right = None\n",
    "\n",
    "        self.val = key"
   ]
  },
  {
   "cell_type": "code",
   "execution_count": 2,
   "id": "0377196b",
   "metadata": {},
   "outputs": [],
   "source": [
    "# Creating a binary tree\n",
    "\n",
    "root = Node(1)\n",
    "\n",
    "root.left = Node(2)\n",
    "\n",
    "root.right = Node(3)\n",
    "\n",
    "root.left.left = Node(4)\n",
    "\n",
    "root.left.right = Node(5)"
   ]
  },
  {
   "cell_type": "code",
   "execution_count": null,
   "id": "aee70e1e",
   "metadata": {},
   "outputs": [],
   "source": []
  }
 ],
 "metadata": {
  "kernelspec": {
   "display_name": "Python 3 (ipykernel)",
   "language": "python",
   "name": "python3"
  },
  "language_info": {
   "codemirror_mode": {
    "name": "ipython",
    "version": 3
   },
   "file_extension": ".py",
   "mimetype": "text/x-python",
   "name": "python",
   "nbconvert_exporter": "python",
   "pygments_lexer": "ipython3",
   "version": "3.10.9"
  }
 },
 "nbformat": 4,
 "nbformat_minor": 5
}
