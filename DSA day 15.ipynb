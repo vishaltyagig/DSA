{
 "cells": [
  {
   "cell_type": "markdown",
   "id": "6d279c98",
   "metadata": {},
   "source": [
    "## Queue"
   ]
  },
  {
   "cell_type": "markdown",
   "id": "cdad493c",
   "metadata": {},
   "source": [
    "### Python program to create a queue and implement operations of a queue  "
   ]
  },
  {
   "cell_type": "code",
   "execution_count": 1,
   "id": "3abffee8",
   "metadata": {},
   "outputs": [
    {
     "name": "stdout",
     "output_type": "stream",
     "text": [
      "New queue after enqueuing:  [6]\n",
      "New queue after enqueuing:  [6, 3]\n",
      "New queue after enqueuing:  [3, 9]\n",
      "Last element:  9\n"
     ]
    }
   ],
   "source": [
    "# Creating a class for queue  \n",
    "class Queue:  \n",
    "    # Initializing a queue  \n",
    "    def __init__(self):  \n",
    "        self.queue = []  \n",
    "  \n",
    "    # Adding an element to the queue  \n",
    "    def enqueue(self, element):  \n",
    "        self.queue.append(element)  \n",
    "        print(\"New queue after enqueuing: \", self.queue)  \n",
    "          \n",
    "    # Removing an element to the queue  \n",
    "    def dequeue(self):  \n",
    "        if len(self.queue) == 0:  \n",
    "            return None  \n",
    "        else: return self.queue.pop(0)  \n",
    "        print(\"New queue after dequeuing: \", self.queue)  \n",
    "          \n",
    "    def rear(self):  \n",
    "        print(\"Last element: \", self.queue[-1])  \n",
    "\n",
    "# Drivers code for the above methods  \n",
    "queue = Queue()  \n",
    "queue.enqueue(6)  \n",
    "queue.enqueue(3)  \n",
    "queue.dequeue()  \n",
    "queue.enqueue(9)  \n",
    "queue.rear()  "
   ]
  },
  {
   "cell_type": "code",
   "execution_count": null,
   "id": "7ed94229",
   "metadata": {},
   "outputs": [],
   "source": []
  }
 ],
 "metadata": {
  "kernelspec": {
   "display_name": "Python 3 (ipykernel)",
   "language": "python",
   "name": "python3"
  },
  "language_info": {
   "codemirror_mode": {
    "name": "ipython",
    "version": 3
   },
   "file_extension": ".py",
   "mimetype": "text/x-python",
   "name": "python",
   "nbconvert_exporter": "python",
   "pygments_lexer": "ipython3",
   "version": "3.10.9"
  }
 },
 "nbformat": 4,
 "nbformat_minor": 5
}
