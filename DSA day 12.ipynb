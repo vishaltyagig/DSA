{
 "cells": [
  {
   "cell_type": "markdown",
   "id": "b90e9def",
   "metadata": {},
   "source": [
    "## Dictionary"
   ]
  },
  {
   "cell_type": "markdown",
   "id": "715d4fd4",
   "metadata": {},
   "source": [
    "### Python program to show how to create a Python Dictionary and its operations "
   ]
  },
  {
   "cell_type": "code",
   "execution_count": 1,
   "id": "03a1c2da",
   "metadata": {},
   "outputs": [
    {
     "name": "stdout",
     "output_type": "stream",
     "text": [
      "The Python Dictionary is: \n",
      "{'1': 'Python', '2': 'Data', '3': 'Structures', '4': 'Tutorial'}\n"
     ]
    }
   ],
   "source": [
    "# Creating a Python Dictionary  \n",
    "\n",
    "\n",
    "Dict = {\"1\": \"Python\", \"2\": \"Data\", \"3\": \"Structures\", \"4\": \"Tutorial\"} \n",
    "\n",
    "print(\"The Python Dictionary is: \") \n",
    "\n",
    "print(Dict)  "
   ]
  },
  {
   "cell_type": "code",
   "execution_count": 2,
   "id": "d026e479",
   "metadata": {},
   "outputs": [
    {
     "name": "stdout",
     "output_type": "stream",
     "text": [
      "Value of key 2 is:  Data\n"
     ]
    }
   ],
   "source": [
    "# accessing the dictionary element using the keys \n",
    "\n",
    "print(\"Value of key 2 is: \", Dict[\"2\"])  "
   ]
  },
  {
   "cell_type": "code",
   "execution_count": 3,
   "id": "687b50b7",
   "metadata": {},
   "outputs": [
    {
     "name": "stdout",
     "output_type": "stream",
     "text": [
      "Using the get method:  Data\n"
     ]
    }
   ],
   "source": [
    "# accessing the elements using the built-in get method  \n",
    "\n",
    "print(\"Using the get method: \", Dict.get(\"2\"))  \n"
   ]
  },
  {
   "cell_type": "code",
   "execution_count": null,
   "id": "9cb6f8d8",
   "metadata": {},
   "outputs": [],
   "source": []
  }
 ],
 "metadata": {
  "kernelspec": {
   "display_name": "Python 3 (ipykernel)",
   "language": "python",
   "name": "python3"
  },
  "language_info": {
   "codemirror_mode": {
    "name": "ipython",
    "version": 3
   },
   "file_extension": ".py",
   "mimetype": "text/x-python",
   "name": "python",
   "nbconvert_exporter": "python",
   "pygments_lexer": "ipython3",
   "version": "3.10.9"
  }
 },
 "nbformat": 4,
 "nbformat_minor": 5
}
