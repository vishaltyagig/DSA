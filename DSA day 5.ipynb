{
 "cells": [
  {
   "cell_type": "markdown",
   "id": "66f8b5b5",
   "metadata": {},
   "source": [
    "## Tuple"
   ]
  },
  {
   "cell_type": "code",
   "execution_count": 1,
   "id": "141d3e9c",
   "metadata": {},
   "outputs": [],
   "source": [
    "# Creating a tuple\n",
    "my_tuple = (1, 2, 3, 'Hello', 'World')\n"
   ]
  },
  {
   "cell_type": "code",
   "execution_count": 2,
   "id": "4590e844",
   "metadata": {},
   "outputs": [
    {
     "name": "stdout",
     "output_type": "stream",
     "text": [
      "1\n",
      "Hello\n"
     ]
    }
   ],
   "source": [
    "# Accessing elements in a tuple\n",
    "\n",
    "print(my_tuple[0])  # Output: 1\n",
    "\n",
    "print(my_tuple[3])  # Output: Hello"
   ]
  },
  {
   "cell_type": "code",
   "execution_count": 3,
   "id": "3df66d92",
   "metadata": {},
   "outputs": [
    {
     "name": "stdout",
     "output_type": "stream",
     "text": [
      "1\n",
      "2\n",
      "3\n",
      "Hello\n",
      "World\n"
     ]
    }
   ],
   "source": [
    "# Iterating through a tuple\n",
    "\n",
    "for item in my_tuple:\n",
    "\n",
    "    print(item)"
   ]
  },
  {
   "cell_type": "code",
   "execution_count": 4,
   "id": "7fef03fe",
   "metadata": {},
   "outputs": [],
   "source": [
    "# Tuple with a single element (note the trailing comma)\n",
    "\n",
    "single_element_tuple = (42,)"
   ]
  },
  {
   "cell_type": "code",
   "execution_count": 5,
   "id": "22af11e0",
   "metadata": {},
   "outputs": [
    {
     "name": "stdout",
     "output_type": "stream",
     "text": [
      "1 2 3 Hello World\n"
     ]
    }
   ],
   "source": [
    "# Tuple unpacking\n",
    "\n",
    "a, b, c, d, e = my_tuple\n",
    "\n",
    "print(a, b, c, d, e)  # Output: 1 2 3 Hello World"
   ]
  },
  {
   "cell_type": "markdown",
   "id": "1749288a",
   "metadata": {},
   "source": [
    "## List"
   ]
  },
  {
   "cell_type": "code",
   "execution_count": 6,
   "id": "f0632772",
   "metadata": {},
   "outputs": [],
   "source": [
    "# Creating a list\n",
    "my_list = [1, 2, 3, 'Hello', 'World']"
   ]
  },
  {
   "cell_type": "code",
   "execution_count": 7,
   "id": "cece77b2",
   "metadata": {},
   "outputs": [
    {
     "name": "stdout",
     "output_type": "stream",
     "text": [
      "1\n",
      "Hello\n"
     ]
    }
   ],
   "source": [
    "# Accessing elements in a list\n",
    "\n",
    "print(my_list[0])  # Output: 1\n",
    "\n",
    "print(my_list[3])  # Output: Hello"
   ]
  },
  {
   "cell_type": "code",
   "execution_count": 8,
   "id": "48596d26",
   "metadata": {},
   "outputs": [
    {
     "name": "stdout",
     "output_type": "stream",
     "text": [
      "[1, 42, 3, 'Hello', 'World']\n"
     ]
    }
   ],
   "source": [
    "# Modifying elements in a list\n",
    "\n",
    "my_list[1] = 42\n",
    "\n",
    "print(my_list)  # Output: [1, 42, 3, ‘Hello’, ‘World’]"
   ]
  },
  {
   "cell_type": "code",
   "execution_count": 9,
   "id": "c7cf8001",
   "metadata": {},
   "outputs": [
    {
     "name": "stdout",
     "output_type": "stream",
     "text": [
      "1\n",
      "42\n",
      "3\n",
      "Hello\n",
      "World\n"
     ]
    }
   ],
   "source": [
    "# Iterating through a list\n",
    "\n",
    "for item in my_list:\n",
    "\n",
    "    print(item)"
   ]
  },
  {
   "cell_type": "code",
   "execution_count": 10,
   "id": "e258813e",
   "metadata": {},
   "outputs": [
    {
     "name": "stdout",
     "output_type": "stream",
     "text": [
      "[1, 42, 3, 'Hello', 'World', 'Python']\n"
     ]
    }
   ],
   "source": [
    "# List methods\n",
    "\n",
    "my_list.append('Python')\n",
    "\n",
    "print(my_list)  \n",
    "#Output: [1, 42, 3, 'Hello', 'World', 'Python']"
   ]
  },
  {
   "cell_type": "code",
   "execution_count": 11,
   "id": "763d3d27",
   "metadata": {},
   "outputs": [
    {
     "name": "stdout",
     "output_type": "stream",
     "text": [
      "[42, 3, 'Hello', 'World', 'Python']\n"
     ]
    }
   ],
   "source": [
    "my_list.remove(1)\n",
    "\n",
    "print(my_list)  #Output: [1, 42, 'Hello', 'World', 'Python']"
   ]
  },
  {
   "cell_type": "markdown",
   "id": "e4b0e700",
   "metadata": {},
   "source": [
    "## Dictionary"
   ]
  },
  {
   "cell_type": "code",
   "execution_count": 12,
   "id": "c062d379",
   "metadata": {},
   "outputs": [],
   "source": [
    "# Creating a dictionary\n",
    "my_dict = {\n",
    "\n",
    "    'name': 'John',\n",
    "\n",
    "    'age': 30,\n",
    "\n",
    "    'city': 'New York'\n",
    "}\n"
   ]
  },
  {
   "cell_type": "code",
   "execution_count": 13,
   "id": "b1c07563",
   "metadata": {},
   "outputs": [
    {
     "name": "stdout",
     "output_type": "stream",
     "text": [
      "John\n"
     ]
    }
   ],
   "source": [
    "# Accessing values in a dictionary\n",
    "\n",
    "print(my_dict['name'])  #Output: John"
   ]
  },
  {
   "cell_type": "code",
   "execution_count": 14,
   "id": "3a3280fb",
   "metadata": {},
   "outputs": [
    {
     "name": "stdout",
     "output_type": "stream",
     "text": [
      "30\n"
     ]
    }
   ],
   "source": [
    "print(my_dict['age'])    # Output: 30"
   ]
  },
  {
   "cell_type": "code",
   "execution_count": 15,
   "id": "cddc7a04",
   "metadata": {},
   "outputs": [
    {
     "name": "stdout",
     "output_type": "stream",
     "text": [
      "{'name': 'John', 'age': 31, 'city': 'New York'}\n"
     ]
    }
   ],
   "source": [
    "# Modifying values in a dictionary\n",
    "\n",
    "my_dict['age'] = 31\n",
    "\n",
    "print(my_dict)  #Output: {'name': 'John', 'age': 31, 'city': 'New York'}"
   ]
  },
  {
   "cell_type": "code",
   "execution_count": 16,
   "id": "2380b09b",
   "metadata": {},
   "outputs": [
    {
     "name": "stdout",
     "output_type": "stream",
     "text": [
      "{'name': 'John', 'age': 31, 'city': 'New York', 'country': 'USA'}\n"
     ]
    }
   ],
   "source": [
    "# Adding a new key-value pair\n",
    "\n",
    "my_dict['country'] = 'USA'\n",
    "\n",
    "print(my_dict)  #Output: {‘name’: ‘John’, ‘age’: 31, ‘city’: ‘New York’, ‘country’: ‘USA’}"
   ]
  },
  {
   "cell_type": "code",
   "execution_count": 17,
   "id": "bae5fc4e",
   "metadata": {},
   "outputs": [
    {
     "name": "stdout",
     "output_type": "stream",
     "text": [
      "{'name': 'John', 'age': 31, 'country': 'USA'}\n"
     ]
    }
   ],
   "source": [
    "# Removing a key-value pair\n",
    "\n",
    "del my_dict['city']\n",
    "\n",
    "print(my_dict)  # Output: {‘name’: ‘John’, ‘age’: 31, ‘country’: ‘USA’}"
   ]
  },
  {
   "cell_type": "code",
   "execution_count": 18,
   "id": "654091e8",
   "metadata": {},
   "outputs": [
    {
     "name": "stdout",
     "output_type": "stream",
     "text": [
      "Name: John\n"
     ]
    }
   ],
   "source": [
    "# Checking if a key exists in a dictionary\n",
    "\n",
    "if 'name' in my_dict:\n",
    "\n",
    "    print('Name:', my_dict['name'])  #Output: Name: John"
   ]
  },
  {
   "cell_type": "code",
   "execution_count": null,
   "id": "97fbdbeb",
   "metadata": {},
   "outputs": [],
   "source": []
  }
 ],
 "metadata": {
  "kernelspec": {
   "display_name": "Python 3 (ipykernel)",
   "language": "python",
   "name": "python3"
  },
  "language_info": {
   "codemirror_mode": {
    "name": "ipython",
    "version": 3
   },
   "file_extension": ".py",
   "mimetype": "text/x-python",
   "name": "python",
   "nbconvert_exporter": "python",
   "pygments_lexer": "ipython3",
   "version": "3.10.9"
  }
 },
 "nbformat": 4,
 "nbformat_minor": 5
}
