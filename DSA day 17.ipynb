{
 "cells": [
  {
   "cell_type": "markdown",
   "id": "bf66fa62",
   "metadata": {},
   "source": [
    "## Binary Tree"
   ]
  },
  {
   "cell_type": "markdown",
   "id": "45c06440",
   "metadata": {},
   "source": [
    "### Python program to show how to create a binary tree and traverse it in Python  "
   ]
  },
  {
   "cell_type": "code",
   "execution_count": 1,
   "id": "6f145f8a",
   "metadata": {},
   "outputs": [
    {
     "name": "stdout",
     "output_type": "stream",
     "text": [
      "Pre-order traversal of the tree: 4 5 10 1 0 7 2 9 \n",
      "In-order traversal of the tree: 10 1 5 0 4 2 9 7 \n",
      "Post-order traversal of the tree: 1 10 0 5 9 2 7 4 "
     ]
    }
   ],
   "source": [
    "# Creating a class for a Node of the tree  \n",
    "class Node:  \n",
    "    def __init__(self, value):  \n",
    "        self.left = None  \n",
    "        self.val = value  \n",
    "        self.right = None  \n",
    "  \n",
    "    # Method to transverse in a pre-order manner  \n",
    "    def traverseAsPreOrder(self):  \n",
    "        print(self.val, end = ' ')  \n",
    "        if self.left != None:  \n",
    "            self.left.traverseAsPreOrder()  \n",
    "        if self.right != None:  \n",
    "            self.right.traverseAsPreOrder()  \n",
    "  \n",
    "    # Method to transverse in an in-order manner  \n",
    "    def traverseAsInOrder(self):  \n",
    "        if self.left != None:  \n",
    "            self.left.traverseAsInOrder()  \n",
    "        print(self.val, end = ' ')  \n",
    "        if self.right != None:  \n",
    "            self.right.traverseAsInOrder()  \n",
    "  \n",
    "    # Method to transverse in an post-order manner  \n",
    "    def traverseAsPostOrder(self):  \n",
    "        if self.left != None:  \n",
    "            self.left.traverseAsPostOrder()  \n",
    "        if self.right != None:  \n",
    "            self.right.traverseAsPostOrder()  \n",
    "        print(self.val, end = ' ')  \n",
    "\n",
    "# Drivers code for the above binary tree class  \n",
    "root_node = Node(4)  \n",
    "  \n",
    "root_node.left = Node(5)  \n",
    "root_node.right = Node(7)  \n",
    "root_node.right.left = Node(2)  \n",
    "root_node.right.left.right = Node(9)  \n",
    "root_node.left.right = Node(0)  \n",
    "root_node.left.left = Node(10)  \n",
    "root_node.left.left.right = Node(1)  \n",
    "  \n",
    "# Transferring the tree  \n",
    "print(\"Pre-order traversal of the tree: \", end = \"\")  \n",
    "root_node.traverseAsPreOrder()  \n",
    "print(\"\\nIn-order traversal of the tree: \", end = \"\")  \n",
    "root_node.traverseAsInOrder()  \n",
    "print(\"\\nPost-order traversal of the tree: \", end = \"\")  \n",
    "root_node.traverseAsPostOrder()  "
   ]
  },
  {
   "cell_type": "code",
   "execution_count": null,
   "id": "81295d6e",
   "metadata": {},
   "outputs": [],
   "source": []
  }
 ],
 "metadata": {
  "kernelspec": {
   "display_name": "Python 3 (ipykernel)",
   "language": "python",
   "name": "python3"
  },
  "language_info": {
   "codemirror_mode": {
    "name": "ipython",
    "version": 3
   },
   "file_extension": ".py",
   "mimetype": "text/x-python",
   "name": "python",
   "nbconvert_exporter": "python",
   "pygments_lexer": "ipython3",
   "version": "3.10.9"
  }
 },
 "nbformat": 4,
 "nbformat_minor": 5
}
