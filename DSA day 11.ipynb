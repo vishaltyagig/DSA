{
 "cells": [
  {
   "cell_type": "markdown",
   "id": "927961d0",
   "metadata": {},
   "source": [
    "## Set"
   ]
  },
  {
   "cell_type": "markdown",
   "id": "a5da2210",
   "metadata": {},
   "source": [
    "### Python program to show how to create a Python Set and its operations  "
   ]
  },
  {
   "cell_type": "code",
   "execution_count": 1,
   "id": "06c7d6af",
   "metadata": {},
   "outputs": [
    {
     "name": "stdout",
     "output_type": "stream",
     "text": [
      "The Python Set is: \n",
      "{'Python', 'Structures', 'Data', 'Tutorial'}\n"
     ]
    }
   ],
   "source": [
    "# Creating a Python set  \n",
    "\n",
    "Set = {\"Python\", \"Data\", \"Structures\", \"Tutorial\"}  \n",
    "print(\"The Python Set is: \")  \n",
    "print(Set)  "
   ]
  },
  {
   "cell_type": "code",
   "execution_count": 2,
   "id": "84709d35",
   "metadata": {},
   "outputs": [
    {
     "name": "stdout",
     "output_type": "stream",
     "text": [
      "0 Python\n",
      "1 Structures\n",
      "2 Data\n",
      "3 Tutorial\n"
     ]
    }
   ],
   "source": [
    "# Accessing the set elements  \n",
    "\n",
    "for ind, i in enumerate(Set):  \n",
    "    print(ind, i)  "
   ]
  },
  {
   "cell_type": "code",
   "execution_count": null,
   "id": "179b2a6e",
   "metadata": {},
   "outputs": [],
   "source": [
    "# Finding the intersection of two sets  \n",
    "Set_ = {1, 2, \"Python\", \"Data\"}  \n",
    "print(\"Intersection: \", Set.intersection(Set_))  "
   ]
  }
 ],
 "metadata": {
  "kernelspec": {
   "display_name": "Python 3 (ipykernel)",
   "language": "python",
   "name": "python3"
  },
  "language_info": {
   "codemirror_mode": {
    "name": "ipython",
    "version": 3
   },
   "file_extension": ".py",
   "mimetype": "text/x-python",
   "name": "python",
   "nbconvert_exporter": "python",
   "pygments_lexer": "ipython3",
   "version": "3.10.9"
  }
 },
 "nbformat": 4,
 "nbformat_minor": 5
}
