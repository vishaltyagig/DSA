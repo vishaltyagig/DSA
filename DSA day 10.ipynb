{
 "cells": [
  {
   "cell_type": "markdown",
   "id": "c91a0c4b",
   "metadata": {},
   "source": [
    "## Tuple"
   ]
  },
  {
   "cell_type": "markdown",
   "id": "625f02e3",
   "metadata": {},
   "source": [
    "### Python program to show how to create a Python Tuple and to access its elements  "
   ]
  },
  {
   "cell_type": "code",
   "execution_count": 1,
   "id": "65787e79",
   "metadata": {},
   "outputs": [
    {
     "name": "stdout",
     "output_type": "stream",
     "text": [
      "The Python tuple is: \n",
      "('Python', 'Data', 'Structures', 'Tutorial')\n"
     ]
    }
   ],
   "source": [
    "# Creating a Python tuple  \n",
    "Tuple = (\"Python\", \"Data\", \"Structures\", \"Tutorial\")  \n",
    "print(\"The Python tuple is: \")  \n",
    "print(Tuple)  "
   ]
  },
  {
   "cell_type": "code",
   "execution_count": 2,
   "id": "d9127bdb",
   "metadata": {},
   "outputs": [
    {
     "name": "stdout",
     "output_type": "stream",
     "text": [
      "Tuple using a List: \n"
     ]
    }
   ],
   "source": [
    "# Create a tuple using a Python list  \n",
    "list = [3, 6, 2, 7, 4, 5, 3]  \n",
    "print(\"Tuple using a List: \")  \n",
    "Tuple_ = tuple(list)  "
   ]
  },
  {
   "cell_type": "code",
   "execution_count": 3,
   "id": "27ee4574",
   "metadata": {},
   "outputs": [
    {
     "name": "stdout",
     "output_type": "stream",
     "text": [
      "Single element:  Data\n",
      "Multiple elements (slicing):  ('Python', 'Data')\n"
     ]
    }
   ],
   "source": [
    "# Accessing tuple elements using indices  \n",
    "print(\"Single element: \", Tuple[1])  \n",
    "print(\"Multiple elements (slicing): \", Tuple[0:2])  "
   ]
  },
  {
   "cell_type": "code",
   "execution_count": 4,
   "id": "652bc3f6",
   "metadata": {},
   "outputs": [
    {
     "name": "stdout",
     "output_type": "stream",
     "text": [
      "Last element:  Tutorial\n"
     ]
    }
   ],
   "source": [
    "# Using negative indexing  \n",
    "        \n",
    "# printing the last element of the list  \n",
    "print(\"Last element: \", Tuple[-1])  "
   ]
  },
  {
   "cell_type": "code",
   "execution_count": 8,
   "id": "33d4a892",
   "metadata": {},
   "outputs": [
    {
     "name": "stdout",
     "output_type": "stream",
     "text": [
      "Exception raised:  'tuple' object does not support item assignment\n"
     ]
    }
   ],
   "source": [
    "# Trying to modify a tuple  \n",
    "try:  \n",
    "    Tuple[1] = \"Tuple\"  \n",
    "    print(Tuple)  \n",
    "except Exception as e:  \n",
    "    print(\"Exception raised: \", e)  "
   ]
  },
  {
   "cell_type": "code",
   "execution_count": null,
   "id": "562d2fda",
   "metadata": {},
   "outputs": [],
   "source": []
  }
 ],
 "metadata": {
  "kernelspec": {
   "display_name": "Python 3 (ipykernel)",
   "language": "python",
   "name": "python3"
  },
  "language_info": {
   "codemirror_mode": {
    "name": "ipython",
    "version": 3
   },
   "file_extension": ".py",
   "mimetype": "text/x-python",
   "name": "python",
   "nbconvert_exporter": "python",
   "pygments_lexer": "ipython3",
   "version": "3.10.9"
  }
 },
 "nbformat": 4,
 "nbformat_minor": 5
}
