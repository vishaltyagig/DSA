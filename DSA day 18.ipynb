{
 "cells": [
  {
   "cell_type": "markdown",
   "id": "35f83dfd",
   "metadata": {},
   "source": [
    "## Bubble Sort Algorithm"
   ]
  },
  {
   "cell_type": "markdown",
   "id": "266f0d17",
   "metadata": {},
   "source": [
    "### Python program to implement Bubble Sort Algorithm "
   ]
  },
  {
   "cell_type": "code",
   "execution_count": 1,
   "id": "c1777b2c",
   "metadata": {},
   "outputs": [
    {
     "name": "stdout",
     "output_type": "stream",
     "text": [
      "Sorted List in Descending Order:\n",
      "[9, 7, 5, 3, 2, 0]\n"
     ]
    }
   ],
   "source": [
    "# Creating a method to perform bubble sort  \n",
    "def bubbleSort(listt):  \n",
    "      \n",
    "  # looping over each element of the list  \n",
    "  for c in range(len(listt)):  \n",
    "  \n",
    "    # looping over remaining elements to compare with the current element  \n",
    "    for n in range(0, len(listt) - c - 1):  \n",
    "  \n",
    "        # comparing the two adjacent elements  \n",
    "        # we are sorting in descending order   \n",
    "        if listt[n] < listt[n + 1]:  \n",
    "  \n",
    "            # Swapping the two elements if they are not in the correct order  \n",
    "            temporary = listt[n]  \n",
    "            listt[n] = listt[n + 1]  \n",
    "            listt[n + 1] = temporary  \n",
    "\n",
    "# Drivers code for the above method  \n",
    "listt = [3, 7, 9, 2, 5, 0]  \n",
    "  \n",
    "bubbleSort(listt)  \n",
    "  \n",
    "print('Sorted List in Descending Order:')  \n",
    "print(listt)  "
   ]
  },
  {
   "cell_type": "markdown",
   "id": "dc14b88d",
   "metadata": {},
   "source": [
    "## Selection Sort Algorithm"
   ]
  },
  {
   "cell_type": "markdown",
   "id": "eeac3b0e",
   "metadata": {},
   "source": [
    "### Python program to implement Selection Sort   "
   ]
  },
  {
   "cell_type": "code",
   "execution_count": 2,
   "id": "d1d67666",
   "metadata": {},
   "outputs": [
    {
     "name": "stdout",
     "output_type": "stream",
     "text": [
      "Sorted List in Descending Order:\n",
      "[97, 85, 35, 29, 23, 20]\n"
     ]
    }
   ],
   "source": [
    "# Defining a method to perform Selection Sort  \n",
    "def selectionSort(listt, size):  \n",
    "     \n",
    "    for s in range(size):  \n",
    "        max_index = s  \n",
    "  \n",
    "        for i in range(s + 1, size):  \n",
    "           \n",
    "            # We are sorting in descending order  \n",
    "            # Selecting the maximum element of the listt  \n",
    "            if listt[i] > listt[max_index]:  \n",
    "                max_index = i  \n",
    "           \n",
    "        # putting the maximum value at the beginning of the list  \n",
    "        (listt[s], listt[max_index]) = (listt[max_index], listt[s])  \n",
    "\n",
    "# Drivers code\n",
    "\n",
    "listt = [20, 35, 29, 85, 23, 97]  \n",
    "size = len(listt)  \n",
    "selectionSort(listt, size)  \n",
    "print('Sorted List in Descending Order:')  \n",
    "print(listt)  "
   ]
  },
  {
   "cell_type": "code",
   "execution_count": null,
   "id": "abe1fdac",
   "metadata": {},
   "outputs": [],
   "source": []
  }
 ],
 "metadata": {
  "kernelspec": {
   "display_name": "Python 3 (ipykernel)",
   "language": "python",
   "name": "python3"
  },
  "language_info": {
   "codemirror_mode": {
    "name": "ipython",
    "version": 3
   },
   "file_extension": ".py",
   "mimetype": "text/x-python",
   "name": "python",
   "nbconvert_exporter": "python",
   "pygments_lexer": "ipython3",
   "version": "3.10.9"
  }
 },
 "nbformat": 4,
 "nbformat_minor": 5
}
