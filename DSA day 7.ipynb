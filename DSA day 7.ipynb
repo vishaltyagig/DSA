{
 "cells": [
  {
   "cell_type": "markdown",
   "id": "990c2a19",
   "metadata": {},
   "source": [
    "## Linked List"
   ]
  },
  {
   "cell_type": "code",
   "execution_count": 1,
   "id": "9e8b28c0",
   "metadata": {},
   "outputs": [],
   "source": [
    "class Node:\n",
    "    def __init__(self, data):\n",
    "\n",
    "        self.data = data\n",
    "\n",
    "        self.next = None\n",
    "\n",
    "class LinkedList:\n",
    "\n",
    "    def __init__(self):\n",
    "\n",
    "        self.head = None"
   ]
  },
  {
   "cell_type": "code",
   "execution_count": 2,
   "id": "2f903b5c",
   "metadata": {},
   "outputs": [],
   "source": [
    "# Method to insert a new node at the end of the linked list\n",
    "\n",
    "def append(self, data):\n",
    "\n",
    "    new_node = Node(data)\n",
    "\n",
    "    if not self.head:\n",
    "\n",
    "        self.head = new_node\n",
    "\n",
    "        return\n",
    "\n",
    "    current = self.head\n",
    "\n",
    "    while current.next:\n",
    "\n",
    "        current = current.next\n",
    "\n",
    "    current.next = new_node"
   ]
  },
  {
   "cell_type": "code",
   "execution_count": 3,
   "id": "3b12218e",
   "metadata": {},
   "outputs": [],
   "source": [
    "# Method to display the linked list\n",
    "\n",
    "def display(self):\n",
    "\n",
    "    current = self.head\n",
    "\n",
    "    while current:\n",
    "\n",
    "        print(current.data, end=' -> ')\n",
    "\n",
    "        current = current.next\n",
    "\n",
    "    print('None')"
   ]
  },
  {
   "cell_type": "code",
   "execution_count": 4,
   "id": "d6d0fb13",
   "metadata": {},
   "outputs": [
    {
     "ename": "NameError",
     "evalue": "name 'my_linked_list' is not defined",
     "output_type": "error",
     "traceback": [
      "\u001b[1;31m---------------------------------------------------------------------------\u001b[0m",
      "\u001b[1;31mNameError\u001b[0m                                 Traceback (most recent call last)",
      "Cell \u001b[1;32mIn[4], line 3\u001b[0m\n\u001b[0;32m      1\u001b[0m \u001b[38;5;66;03m# Display the linked list\u001b[39;00m\n\u001b[1;32m----> 3\u001b[0m \u001b[43mmy_linked_list\u001b[49m\u001b[38;5;241m.\u001b[39mdisplay()\n",
      "\u001b[1;31mNameError\u001b[0m: name 'my_linked_list' is not defined"
     ]
    }
   ],
   "source": [
    "# Display the linked list\n",
    "\n",
    "my_linked_list.display()"
   ]
  },
  {
   "cell_type": "code",
   "execution_count": 5,
   "id": "0d9e906a",
   "metadata": {},
   "outputs": [
    {
     "name": "stdout",
     "output_type": "stream",
     "text": [
      "1 -> 2 -> 3 -> None\n"
     ]
    }
   ],
   "source": [
    "class Node:\n",
    "    def __init__(self, data):\n",
    "\n",
    "        self.data = data\n",
    "\n",
    "        self.next = None\n",
    "\n",
    "class LinkedList:\n",
    "\n",
    "    def __init__(self):\n",
    "\n",
    "        self.head = None\n",
    "\n",
    " # Method to insert a new node at the end of the linked list\n",
    "\n",
    "    def append(self, data):\n",
    "\n",
    "        new_node = Node(data)\n",
    "\n",
    "        if not self.head:\n",
    "\n",
    "            self.head = new_node\n",
    "\n",
    "            return\n",
    "\n",
    "        current = self.head\n",
    "\n",
    "        while current.next:\n",
    "\n",
    "            current = current.next\n",
    "\n",
    "        current.next = new_node\n",
    "\n",
    " # Method to display the linked list\n",
    "\n",
    "    def display(self):\n",
    "\n",
    "        current = self.head\n",
    "\n",
    "        while current:\n",
    "\n",
    "            print(current.data, end=' -> ')\n",
    "\n",
    "            current = current.next\n",
    "\n",
    "        print('None')\n",
    "\n",
    "# Create a linked list and append some elements\n",
    "\n",
    "my_linked_list = LinkedList()\n",
    "\n",
    "my_linked_list.append(1)\n",
    "\n",
    "my_linked_list.append(2)\n",
    "\n",
    "my_linked_list.append(3)\n",
    "\n",
    "# Display the linked list\n",
    "\n",
    "my_linked_list.display()"
   ]
  },
  {
   "cell_type": "code",
   "execution_count": null,
   "id": "86d3f7f4",
   "metadata": {},
   "outputs": [],
   "source": []
  }
 ],
 "metadata": {
  "kernelspec": {
   "display_name": "Python 3 (ipykernel)",
   "language": "python",
   "name": "python3"
  },
  "language_info": {
   "codemirror_mode": {
    "name": "ipython",
    "version": 3
   },
   "file_extension": ".py",
   "mimetype": "text/x-python",
   "name": "python",
   "nbconvert_exporter": "python",
   "pygments_lexer": "ipython3",
   "version": "3.10.9"
  }
 },
 "nbformat": 4,
 "nbformat_minor": 5
}
