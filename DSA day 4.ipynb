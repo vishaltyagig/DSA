{
 "cells": [
  {
   "cell_type": "markdown",
   "id": "37521217",
   "metadata": {},
   "source": [
    "# Hash Table"
   ]
  },
  {
   "cell_type": "code",
   "execution_count": 1,
   "id": "9fb0d820",
   "metadata": {},
   "outputs": [],
   "source": [
    "stock_prices = []\n",
    "with open(\"stock_prices.csv\",\"r\") as f:\n",
    "    for line in f:\n",
    "        tokens = line.split(',')\n",
    "        day = tokens[0]\n",
    "        price = float(tokens[1])\n",
    "        stock_prices.append([day,price])"
   ]
  },
  {
   "cell_type": "code",
   "execution_count": 2,
   "id": "de4b4666",
   "metadata": {},
   "outputs": [
    {
     "data": {
      "text/plain": [
       "[['march 6', 310.0],\n",
       " ['march 7', 340.0],\n",
       " ['march 8', 380.0],\n",
       " ['march 9', 302.0],\n",
       " ['march 10', 297.0],\n",
       " ['march 11', 323.0]]"
      ]
     },
     "execution_count": 2,
     "metadata": {},
     "output_type": "execute_result"
    }
   ],
   "source": [
    "stock_prices"
   ]
  },
  {
   "cell_type": "code",
   "execution_count": 3,
   "id": "e1e4923a",
   "metadata": {},
   "outputs": [
    {
     "data": {
      "text/plain": [
       "['march 6', 310.0]"
      ]
     },
     "execution_count": 3,
     "metadata": {},
     "output_type": "execute_result"
    }
   ],
   "source": [
    "stock_prices[0]"
   ]
  },
  {
   "cell_type": "markdown",
   "id": "feaf9a0e",
   "metadata": {},
   "source": [
    "### Find stock price on March 9"
   ]
  },
  {
   "cell_type": "code",
   "execution_count": 4,
   "id": "5c3f533f",
   "metadata": {},
   "outputs": [
    {
     "name": "stdout",
     "output_type": "stream",
     "text": [
      "302.0\n"
     ]
    }
   ],
   "source": [
    "for element in stock_prices:\n",
    "    if element[0] == 'march 9':\n",
    "        print(element[1])"
   ]
  },
  {
   "cell_type": "markdown",
   "id": "001a8a0d",
   "metadata": {},
   "source": [
    "### Process using python dictionary"
   ]
  },
  {
   "cell_type": "code",
   "execution_count": 5,
   "id": "df70be59",
   "metadata": {},
   "outputs": [],
   "source": [
    "stock_prices = {}\n",
    "with open(\"stock_prices.csv\",\"r\") as f:\n",
    "    for line in f:\n",
    "        tokens = line.split(',')\n",
    "        day = tokens[0]\n",
    "        price = float(tokens[1])\n",
    "        stock_prices[day] = price\n"
   ]
  },
  {
   "cell_type": "code",
   "execution_count": 6,
   "id": "c3602ed6",
   "metadata": {},
   "outputs": [
    {
     "data": {
      "text/plain": [
       "{'march 6': 310.0,\n",
       " 'march 7': 340.0,\n",
       " 'march 8': 380.0,\n",
       " 'march 9': 302.0,\n",
       " 'march 10': 297.0,\n",
       " 'march 11': 323.0}"
      ]
     },
     "execution_count": 6,
     "metadata": {},
     "output_type": "execute_result"
    }
   ],
   "source": [
    "stock_prices"
   ]
  },
  {
   "cell_type": "markdown",
   "id": "1a62dd73",
   "metadata": {},
   "source": [
    "### Find stock price on March 9"
   ]
  },
  {
   "cell_type": "code",
   "execution_count": 7,
   "id": "5ac8688a",
   "metadata": {},
   "outputs": [
    {
     "data": {
      "text/plain": [
       "302.0"
      ]
     },
     "execution_count": 7,
     "metadata": {},
     "output_type": "execute_result"
    }
   ],
   "source": [
    "stock_prices['march 9']"
   ]
  },
  {
   "cell_type": "markdown",
   "id": "69300db9",
   "metadata": {},
   "source": [
    "### Implement Hash Table"
   ]
  },
  {
   "cell_type": "code",
   "execution_count": 8,
   "id": "58441c42",
   "metadata": {},
   "outputs": [],
   "source": [
    "def get_hash(key):\n",
    "    hash = 0\n",
    "    for char in key:\n",
    "        hash += ord(char)\n",
    "    return hash % 100"
   ]
  },
  {
   "cell_type": "code",
   "execution_count": 9,
   "id": "64c33d9e",
   "metadata": {},
   "outputs": [
    {
     "data": {
      "text/plain": [
       "9"
      ]
     },
     "execution_count": 9,
     "metadata": {},
     "output_type": "execute_result"
    }
   ],
   "source": [
    "get_hash('march 6')"
   ]
  },
  {
   "cell_type": "code",
   "execution_count": 10,
   "id": "66ba658f",
   "metadata": {},
   "outputs": [],
   "source": [
    "class HashTable:  \n",
    "    def __init__(self):\n",
    "        self.MAX = 100\n",
    "        self.arr = [None for i in range(self.MAX)]\n",
    "        \n",
    "    def get_hash(self, key):\n",
    "        hash = 0\n",
    "        for char in key:\n",
    "            hash += ord(char)\n",
    "        return hash % self.MAX\n",
    "    \n",
    "    def __getitem__(self, index):\n",
    "        h = self.get_hash(index)\n",
    "        return self.arr[h]\n",
    "    \n",
    "    def __setitem__(self, key, val):\n",
    "        h = self.get_hash(key)\n",
    "        self.arr[h] = val    \n",
    "        \n",
    "    def __delitem__(self, key):\n",
    "        h = self.get_hash(key)\n",
    "        self.arr[h] = None        "
   ]
  },
  {
   "cell_type": "code",
   "execution_count": 11,
   "id": "78654abb",
   "metadata": {},
   "outputs": [],
   "source": [
    "t = HashTable()\n",
    "t[\"march 6\"] = 310\n",
    "t[\"march 7\"] = 420"
   ]
  },
  {
   "cell_type": "code",
   "execution_count": 12,
   "id": "2898fa2c",
   "metadata": {},
   "outputs": [
    {
     "data": {
      "text/plain": [
       "[None,\n",
       " None,\n",
       " None,\n",
       " None,\n",
       " None,\n",
       " None,\n",
       " None,\n",
       " None,\n",
       " None,\n",
       " 310,\n",
       " 420,\n",
       " None,\n",
       " None,\n",
       " None,\n",
       " None,\n",
       " None,\n",
       " None,\n",
       " None,\n",
       " None,\n",
       " None,\n",
       " None,\n",
       " None,\n",
       " None,\n",
       " None,\n",
       " None,\n",
       " None,\n",
       " None,\n",
       " None,\n",
       " None,\n",
       " None,\n",
       " None,\n",
       " None,\n",
       " None,\n",
       " None,\n",
       " None,\n",
       " None,\n",
       " None,\n",
       " None,\n",
       " None,\n",
       " None,\n",
       " None,\n",
       " None,\n",
       " None,\n",
       " None,\n",
       " None,\n",
       " None,\n",
       " None,\n",
       " None,\n",
       " None,\n",
       " None,\n",
       " None,\n",
       " None,\n",
       " None,\n",
       " None,\n",
       " None,\n",
       " None,\n",
       " None,\n",
       " None,\n",
       " None,\n",
       " None,\n",
       " None,\n",
       " None,\n",
       " None,\n",
       " None,\n",
       " None,\n",
       " None,\n",
       " None,\n",
       " None,\n",
       " None,\n",
       " None,\n",
       " None,\n",
       " None,\n",
       " None,\n",
       " None,\n",
       " None,\n",
       " None,\n",
       " None,\n",
       " None,\n",
       " None,\n",
       " None,\n",
       " None,\n",
       " None,\n",
       " None,\n",
       " None,\n",
       " None,\n",
       " None,\n",
       " None,\n",
       " None,\n",
       " None,\n",
       " None,\n",
       " None,\n",
       " None,\n",
       " None,\n",
       " None,\n",
       " None,\n",
       " None,\n",
       " None,\n",
       " None,\n",
       " None,\n",
       " None]"
      ]
     },
     "execution_count": 12,
     "metadata": {},
     "output_type": "execute_result"
    }
   ],
   "source": [
    "t.arr"
   ]
  },
  {
   "cell_type": "code",
   "execution_count": 13,
   "id": "7baa7bd9",
   "metadata": {},
   "outputs": [],
   "source": [
    "t[\"dec 30\"] = 88"
   ]
  },
  {
   "cell_type": "code",
   "execution_count": 14,
   "id": "47a2f71e",
   "metadata": {},
   "outputs": [
    {
     "data": {
      "text/plain": [
       "88"
      ]
     },
     "execution_count": 14,
     "metadata": {},
     "output_type": "execute_result"
    }
   ],
   "source": [
    "t[\"dec 30\"]"
   ]
  },
  {
   "cell_type": "code",
   "execution_count": 15,
   "id": "00ecbc8b",
   "metadata": {},
   "outputs": [],
   "source": [
    "del t[\"march 6\"]"
   ]
  },
  {
   "cell_type": "code",
   "execution_count": 16,
   "id": "f6d484f3",
   "metadata": {},
   "outputs": [
    {
     "data": {
      "text/plain": [
       "[None,\n",
       " None,\n",
       " None,\n",
       " None,\n",
       " None,\n",
       " None,\n",
       " None,\n",
       " None,\n",
       " None,\n",
       " None,\n",
       " 420,\n",
       " None,\n",
       " None,\n",
       " None,\n",
       " None,\n",
       " None,\n",
       " None,\n",
       " None,\n",
       " None,\n",
       " None,\n",
       " None,\n",
       " None,\n",
       " None,\n",
       " None,\n",
       " None,\n",
       " None,\n",
       " None,\n",
       " None,\n",
       " None,\n",
       " None,\n",
       " None,\n",
       " 88,\n",
       " None,\n",
       " None,\n",
       " None,\n",
       " None,\n",
       " None,\n",
       " None,\n",
       " None,\n",
       " None,\n",
       " None,\n",
       " None,\n",
       " None,\n",
       " None,\n",
       " None,\n",
       " None,\n",
       " None,\n",
       " None,\n",
       " None,\n",
       " None,\n",
       " None,\n",
       " None,\n",
       " None,\n",
       " None,\n",
       " None,\n",
       " None,\n",
       " None,\n",
       " None,\n",
       " None,\n",
       " None,\n",
       " None,\n",
       " None,\n",
       " None,\n",
       " None,\n",
       " None,\n",
       " None,\n",
       " None,\n",
       " None,\n",
       " None,\n",
       " None,\n",
       " None,\n",
       " None,\n",
       " None,\n",
       " None,\n",
       " None,\n",
       " None,\n",
       " None,\n",
       " None,\n",
       " None,\n",
       " None,\n",
       " None,\n",
       " None,\n",
       " None,\n",
       " None,\n",
       " None,\n",
       " None,\n",
       " None,\n",
       " None,\n",
       " None,\n",
       " None,\n",
       " None,\n",
       " None,\n",
       " None,\n",
       " None,\n",
       " None,\n",
       " None,\n",
       " None,\n",
       " None,\n",
       " None,\n",
       " None]"
      ]
     },
     "execution_count": 16,
     "metadata": {},
     "output_type": "execute_result"
    }
   ],
   "source": [
    "t.arr"
   ]
  },
  {
   "cell_type": "code",
   "execution_count": null,
   "id": "758a0def",
   "metadata": {},
   "outputs": [],
   "source": []
  }
 ],
 "metadata": {
  "kernelspec": {
   "display_name": "Python 3 (ipykernel)",
   "language": "python",
   "name": "python3"
  },
  "language_info": {
   "codemirror_mode": {
    "name": "ipython",
    "version": 3
   },
   "file_extension": ".py",
   "mimetype": "text/x-python",
   "name": "python",
   "nbconvert_exporter": "python",
   "pygments_lexer": "ipython3",
   "version": "3.10.9"
  }
 },
 "nbformat": 4,
 "nbformat_minor": 5
}
