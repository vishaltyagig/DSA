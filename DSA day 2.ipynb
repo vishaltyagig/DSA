{
 "cells": [
  {
   "cell_type": "markdown",
   "id": "b5115b45",
   "metadata": {},
   "source": [
    "### Odd Even Number"
   ]
  },
  {
   "cell_type": "code",
   "execution_count": 1,
   "id": "5e1fb4e8",
   "metadata": {},
   "outputs": [
    {
     "name": "stdout",
     "output_type": "stream",
     "text": [
      "Enter max number: 24\n",
      "Odd numbers:  [1, 3, 5, 7, 9, 11, 13, 15, 17, 19, 21, 23]\n"
     ]
    }
   ],
   "source": [
    "max = int(input(\"Enter max number: \"))\n",
    "\n",
    "odd_numbers = []\n",
    "\n",
    "for i in range(1, max):\n",
    "    if i % 2 == 1:\n",
    "        odd_numbers.append(i)\n",
    "\n",
    "print(\"Odd numbers: \", odd_numbers)"
   ]
  },
  {
   "cell_type": "code",
   "execution_count": 2,
   "id": "9a053b8a",
   "metadata": {},
   "outputs": [
    {
     "name": "stdout",
     "output_type": "stream",
     "text": [
      "Enter max number: 15\n",
      "Odd Numbers:  [1, 3, 5, 7, 9, 11, 13]\n"
     ]
    }
   ],
   "source": [
    "max = int(input(\"Enter max number: \"))\n",
    "odd_numbers = []\n",
    "\n",
    "for i in range(1, max):\n",
    "    if i % 2 == 1:\n",
    "        odd_numbers.append(i)\n",
    "        \n",
    "print(\"Odd Numbers: \", odd_numbers)"
   ]
  },
  {
   "cell_type": "code",
   "execution_count": 3,
   "id": "cdd1cccf",
   "metadata": {},
   "outputs": [
    {
     "name": "stdout",
     "output_type": "stream",
     "text": [
      "Enter max number: 45\n",
      "Odd Numbers:  [1, 3, 5, 7, 9, 11, 13, 15, 17, 19, 21, 23, 25, 27, 29, 31, 33, 35, 37, 39, 41, 43]\n",
      "Even Numbers:  [2, 4, 6, 8, 10, 12, 14, 16, 18, 20, 22, 24, 26, 28, 30, 32, 34, 36, 38, 40, 42, 44]\n"
     ]
    }
   ],
   "source": [
    "max = int(input(\"Enter max number: \"))\n",
    "odd_numbers = []\n",
    "even_numbers = []\n",
    "\n",
    "for i in range(1, max):\n",
    "    if i % 2 == 1:\n",
    "        odd_numbers.append(i)\n",
    "    elif i % 2 == 0:    \n",
    "        even_numbers.append(i)\n",
    "        \n",
    "print(\"Odd Numbers: \", odd_numbers)\n",
    "print(\"Even Numbers: \", even_numbers)"
   ]
  },
  {
   "cell_type": "code",
   "execution_count": 4,
   "id": "cd0157bc",
   "metadata": {},
   "outputs": [
    {
     "name": "stdout",
     "output_type": "stream",
     "text": [
      "Enter max number: 56\n",
      "Odd Numbers:  [1, 3, 5, 7, 9, 11, 13, 15, 17, 19, 21, 23, 25, 27, 29, 31, 33, 35, 37, 39, 41, 43, 45, 47, 49, 51, 53, 55]\n",
      "Even Numbers:  [2, 4, 6, 8, 10, 12, 14, 16, 18, 20, 22, 24, 26, 28, 30, 32, 34, 36, 38, 40, 42, 44, 46, 48, 50, 52, 54]\n"
     ]
    }
   ],
   "source": [
    "max = int(input(\"Enter max number: \"))\n",
    "odd_numbers = []\n",
    "even_numbers = []\n",
    "\n",
    "for i in range(1, max):\n",
    "    if i % 2 == 1:\n",
    "        odd_numbers.append(i)\n",
    "    elif i % 2 == 0:    \n",
    "        even_numbers.append(i)\n",
    "        \n",
    "print(\"Odd Numbers: \", odd_numbers)\n",
    "print(\"Even Numbers: \", even_numbers)"
   ]
  },
  {
   "cell_type": "code",
   "execution_count": 6,
   "id": "87b7515f",
   "metadata": {},
   "outputs": [
    {
     "ename": "TypeError",
     "evalue": "'tuple' object is not callable",
     "output_type": "error",
     "traceback": [
      "\u001b[1;31m---------------------------------------------------------------------------\u001b[0m",
      "\u001b[1;31mTypeError\u001b[0m                                 Traceback (most recent call last)",
      "Cell \u001b[1;32mIn[6], line 21\u001b[0m\n\u001b[0;32m      1\u001b[0m \u001b[38;5;66;03m# Let us say your expense for every month are listed below,\u001b[39;00m\n\u001b[0;32m      2\u001b[0m \u001b[38;5;66;03m# January - 2200\u001b[39;00m\n\u001b[0;32m      3\u001b[0m \u001b[38;5;66;03m# February - 2350\u001b[39;00m\n\u001b[1;32m   (...)\u001b[0m\n\u001b[0;32m     18\u001b[0m \n\u001b[0;32m     19\u001b[0m \u001b[38;5;66;03m#1. In Feb, how many dollars you spent extra compare to January?\u001b[39;00m\n\u001b[0;32m     20\u001b[0m exp \u001b[38;5;241m=\u001b[39m [\u001b[38;5;241m2200\u001b[39m, \u001b[38;5;241m2350\u001b[39m, \u001b[38;5;241m2600\u001b[39m, \u001b[38;5;241m2130\u001b[39m, \u001b[38;5;241m2190\u001b[39m]\n\u001b[1;32m---> 21\u001b[0m \u001b[38;5;28;43mprint\u001b[39;49m\u001b[43m(\u001b[49m\u001b[38;5;124;43m\"\u001b[39;49m\u001b[38;5;124;43mExtra spent money compare to january is: \u001b[39;49m\u001b[38;5;124;43m\"\u001b[39;49m\u001b[43m,\u001b[49m\u001b[43m \u001b[49m\u001b[43mexp\u001b[49m\u001b[43m[\u001b[49m\u001b[38;5;241;43m1\u001b[39;49m\u001b[43m]\u001b[49m\u001b[38;5;241;43m-\u001b[39;49m\u001b[43mexp\u001b[49m\u001b[43m[\u001b[49m\u001b[38;5;241;43m0\u001b[39;49m\u001b[43m]\u001b[49m\u001b[43m)\u001b[49m\n",
      "\u001b[1;31mTypeError\u001b[0m: 'tuple' object is not callable"
     ]
    }
   ],
   "source": [
    "# Let us say your expense for every month are listed below,\n",
    "# January - 2200\n",
    "# February - 2350\n",
    "# March - 2600\n",
    "# April - 2130\n",
    "# May - 2190\n",
    "\n",
    "# Create a list to store these monthly expenses and using that find out,\n",
    "\n",
    "#1. In Feb, how many dollars you spent extra compare to January?\n",
    "#2. Find out your total expense in first quarter (first three months) of the year.\n",
    "#3. Find out if you spent exactly 2000 dollars in any month\n",
    "#4. June month just finished and your expense is 1980 dollar. Add this item to our monthly expense list\n",
    "#5. '''You returned an item that you bought in a month of April and\n",
    "# got a refund of 200$. Make a correction to your monthly expense list\n",
    "# based on this'''\n",
    "\n",
    "\n",
    "#1. In Feb, how many dollars you spent extra compare to January?\n",
    "exp = [2200, 2350, 2600, 2130, 2190]\n",
    "print(\"Extra spent money compare to january is: \", exp[1]-exp[0])"
   ]
  },
  {
   "cell_type": "code",
   "execution_count": null,
   "id": "85a435f4",
   "metadata": {},
   "outputs": [],
   "source": []
  }
 ],
 "metadata": {
  "kernelspec": {
   "display_name": "Python 3 (ipykernel)",
   "language": "python",
   "name": "python3"
  },
  "language_info": {
   "codemirror_mode": {
    "name": "ipython",
    "version": 3
   },
   "file_extension": ".py",
   "mimetype": "text/x-python",
   "name": "python",
   "nbconvert_exporter": "python",
   "pygments_lexer": "ipython3",
   "version": "3.10.9"
  }
 },
 "nbformat": 4,
 "nbformat_minor": 5
}
