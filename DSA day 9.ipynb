{
 "cells": [
  {
   "cell_type": "markdown",
   "id": "3633c592",
   "metadata": {},
   "source": [
    "## List"
   ]
  },
  {
   "cell_type": "markdown",
   "id": "73365bf1",
   "metadata": {},
   "source": [
    "### Python program to show how to create a Python List and some of its operations  "
   ]
  },
  {
   "cell_type": "code",
   "execution_count": 1,
   "id": "b226505c",
   "metadata": {},
   "outputs": [
    {
     "name": "stdout",
     "output_type": "stream",
     "text": [
      "The created Python list is: \n",
      "['Python', 'Data', 'Structures', 'Tutorial']\n"
     ]
    }
   ],
   "source": [
    "# Creating a Python list  \n",
    "List = [\"Python\", \"Data\", \"Structures\", \"Tutorial\"]  \n",
    "print(\"The created Python list is: \")  \n",
    "print(List)  "
   ]
  },
  {
   "cell_type": "code",
   "execution_count": 2,
   "id": "013e6baa",
   "metadata": {},
   "outputs": [
    {
     "name": "stdout",
     "output_type": "stream",
     "text": [
      "The multi-Dimensional list is: \n",
      "[['Python', 'Data'], ['Structures', 'Tutorial']]\n"
     ]
    }
   ],
   "source": [
    "# Creating a multi-dimensional list using nested lists (list inside a list)  \n",
    "List_ = [[\"Python\", \"Data\"], [\"Structures\", \"Tutorial\"]]  \n",
    "print(\"The multi-Dimensional list is: \")  \n",
    "print(List_)  \n"
   ]
  },
  {
   "cell_type": "code",
   "execution_count": 3,
   "id": "29145e4b",
   "metadata": {},
   "outputs": [
    {
     "name": "stdout",
     "output_type": "stream",
     "text": [
      "Single element:  Data\n",
      "Multiple elements (slicing):  ['Python', 'Data']\n",
      "For nested lists:  Structures\n"
     ]
    }
   ],
   "source": [
    "# We can access the list of elements using the index of the element  \n",
    "print(\"Single element: \", List[1])  \n",
    "print(\"Multiple elements (slicing): \", List[0:2])  \n",
    "print(\"For nested lists: \", List_[1][0])  "
   ]
  },
  {
   "cell_type": "code",
   "execution_count": 4,
   "id": "9310f0b8",
   "metadata": {},
   "outputs": [
    {
     "name": "stdout",
     "output_type": "stream",
     "text": [
      "Last element:  ['Structures', 'Tutorial']\n"
     ]
    }
   ],
   "source": [
    "# We can access elements using negative indices also  \n",
    "        \n",
    "# printing the last element of the list  \n",
    "print(\"Last element: \", List_[-1])  "
   ]
  },
  {
   "cell_type": "code",
   "execution_count": 5,
   "id": "baff4cd2",
   "metadata": {},
   "outputs": [
    {
     "name": "stdout",
     "output_type": "stream",
     "text": [
      "Last two elements:  ['Tutorial', 'Structures']\n"
     ]
    }
   ],
   "source": [
    "# Slicing the list using negative indexing  \n",
    "print(\"Last two elements: \", List[-1:-3:-1]) # Last first order  "
   ]
  },
  {
   "cell_type": "code",
   "execution_count": null,
   "id": "c94d4381",
   "metadata": {},
   "outputs": [],
   "source": []
  }
 ],
 "metadata": {
  "kernelspec": {
   "display_name": "Python 3 (ipykernel)",
   "language": "python",
   "name": "python3"
  },
  "language_info": {
   "codemirror_mode": {
    "name": "ipython",
    "version": 3
   },
   "file_extension": ".py",
   "mimetype": "text/x-python",
   "name": "python",
   "nbconvert_exporter": "python",
   "pygments_lexer": "ipython3",
   "version": "3.10.9"
  }
 },
 "nbformat": 4,
 "nbformat_minor": 5
}
