{
 "cells": [
  {
   "cell_type": "markdown",
   "id": "10213716",
   "metadata": {},
   "source": [
    "## Binary Search Algorithm"
   ]
  },
  {
   "cell_type": "markdown",
   "id": "4ea44148",
   "metadata": {},
   "source": [
    "### Python program to perform the Binary Search  "
   ]
  },
  {
   "cell_type": "code",
   "execution_count": 1,
   "id": "3d3ff9bf",
   "metadata": {},
   "outputs": [
    {
     "name": "stdout",
     "output_type": "stream",
     "text": [
      "The element we searched for is present at: 4\n"
     ]
    }
   ],
   "source": [
    "# Python program to perform the Binary Search  \n",
    "  \n",
    "# Defining a function to perform Binary Search  \n",
    "def binarySearch(listt, e, l, h):  \n",
    "  \n",
    "    # We will use two pointers iteration to find the element  \n",
    "    while l <= h:  \n",
    "  \n",
    "        mid_element = l + (h - l)//2  \n",
    "  \n",
    "        if listt[mid_element] == e:  \n",
    "            return mid_element  \n",
    "  \n",
    "        elif listt[mid_element] < e:  \n",
    "            l = mid_element + 1  \n",
    "  \n",
    "        else:  \n",
    "            h = mid_element - 1  \n",
    "  \n",
    "    return -1  \n",
    "  \n",
    "# Drivers code  \n",
    "listt = [4, 2, 7, 6, 7, 8, 1, 9, 0, 5]  \n",
    "e = 7  \n",
    "  \n",
    "index = binarySearch(listt, e, 0, len(listt)-1)  \n",
    "  \n",
    "if index != -1:  \n",
    "    print(\"The element we searched for is present at: \" + str(index))  \n",
    "else:  \n",
    "    print(\"Not found\")  "
   ]
  },
  {
   "cell_type": "markdown",
   "id": "8d0484a1",
   "metadata": {},
   "source": [
    "## "
   ]
  }
 ],
 "metadata": {
  "kernelspec": {
   "display_name": "Python 3 (ipykernel)",
   "language": "python",
   "name": "python3"
  },
  "language_info": {
   "codemirror_mode": {
    "name": "ipython",
    "version": 3
   },
   "file_extension": ".py",
   "mimetype": "text/x-python",
   "name": "python",
   "nbconvert_exporter": "python",
   "pygments_lexer": "ipython3",
   "version": "3.10.9"
  }
 },
 "nbformat": 4,
 "nbformat_minor": 5
}
