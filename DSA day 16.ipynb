{
 "cells": [
  {
   "cell_type": "markdown",
   "id": "7caee40c",
   "metadata": {},
   "source": [
    "## HEAP"
   ]
  },
  {
   "cell_type": "markdown",
   "id": "8c5cc92f",
   "metadata": {},
   "source": [
    "### Python program to implement a heap data structure in Python  "
   ]
  },
  {
   "cell_type": "code",
   "execution_count": 1,
   "id": "cb6e7c1b",
   "metadata": {},
   "outputs": [
    {
     "name": "stdout",
     "output_type": "stream",
     "text": [
      "Heap array:  [6, 4, 5, 3, 8]\n",
      "After deleting an item:  [8, 4, 6, 3]\n"
     ]
    }
   ],
   "source": [
    "# Defining a method to create a heap  \n",
    "def heapify(array, n, j):  \n",
    "    largest = j  \n",
    "    a = 2 * j + 1  \n",
    "    b = 2 * j + 2   \n",
    "      \n",
    "    if a < n and array[j] < array[a]:  \n",
    "        largest = a  \n",
    "      \n",
    "    if b < n and array[largest] < array[b]:  \n",
    "        largest = b  \n",
    "      \n",
    "    if largest != j:  \n",
    "        array[j],array[largest] = array[largest], array[j]  \n",
    "        heapify(array, n, largest)  \n",
    "\n",
    "def insert_element(array, value):  \n",
    "    s = len(array)  \n",
    "    if s == 0:  \n",
    "        array.append(value)  \n",
    "    else:  \n",
    "        array.append(value);  \n",
    "        for j in range((s//2)-1, -1, -1):  \n",
    "            heapify(array, s, j)  \n",
    "\n",
    "def delete(array, value):  \n",
    "    s = len(array)  \n",
    "    for j in range(0, s):  \n",
    "        if s == array[j]:  \n",
    "            break  \n",
    "          \n",
    "    array[j], array[s - 1] = array[s - 1], array[j]  \n",
    "  \n",
    "    array.remove(value)  \n",
    "      \n",
    "    for j in range((len(array)//2)-1, -1, -1):  \n",
    "        heapify(array, len(array), j)  \n",
    "\n",
    "# Drivers code for the above methods  \n",
    "heap = []  \n",
    "  \n",
    "insert_element(heap, 3)  \n",
    "insert_element(heap, 6)  \n",
    "insert_element(heap, 5)  \n",
    "insert_element(heap, 4)  \n",
    "insert_element(heap, 8)  \n",
    "  \n",
    "print(\"Heap array: \", heap)  \n",
    "  \n",
    "delete(heap, 5)  \n",
    "print(\"After deleting an item: \", heap)  "
   ]
  },
  {
   "cell_type": "code",
   "execution_count": null,
   "id": "b78ce02f",
   "metadata": {},
   "outputs": [],
   "source": []
  }
 ],
 "metadata": {
  "kernelspec": {
   "display_name": "Python 3 (ipykernel)",
   "language": "python",
   "name": "python3"
  },
  "language_info": {
   "codemirror_mode": {
    "name": "ipython",
    "version": 3
   },
   "file_extension": ".py",
   "mimetype": "text/x-python",
   "name": "python",
   "nbconvert_exporter": "python",
   "pygments_lexer": "ipython3",
   "version": "3.10.9"
  }
 },
 "nbformat": 4,
 "nbformat_minor": 5
}
