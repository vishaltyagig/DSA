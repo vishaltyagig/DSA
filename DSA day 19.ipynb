{
 "cells": [
  {
   "cell_type": "markdown",
   "id": "7a12a3ce",
   "metadata": {},
   "source": [
    "## Quicksort Algorithm"
   ]
  },
  {
   "cell_type": "markdown",
   "id": "fa5596a6",
   "metadata": {},
   "source": [
    "### Python program to perform Quick Sort Algorithm  "
   ]
  },
  {
   "cell_type": "code",
   "execution_count": 2,
   "id": "1aa37a37",
   "metadata": {},
   "outputs": [
    {
     "name": "stdout",
     "output_type": "stream",
     "text": [
      "Sorted List in Ascending Order:\n",
      "[0, 1, 2, 3, 4, 7, 8, 9]\n"
     ]
    }
   ],
   "source": [
    "# Defining a function to search for the pivoting position  \n",
    "def pivot(listt, low, high):  \n",
    "  \n",
    "  # selecting the right-most element as a pivot  \n",
    "  pivot = listt[high]  \n",
    "  \n",
    "  # the greater item  \n",
    "  g = low - 1  \n",
    "  \n",
    "  # transversing through all the elements  \n",
    "  for i in range(low, high):  \n",
    "    if listt[i] <= pivot:  \n",
    "      # if the value of j is smaller, we will swap it with the pointer g  \n",
    "      g = g + 1  \n",
    "  \n",
    "      # swap the elements at g and i  \n",
    "      (listt[g], listt[i]) = (listt[i], listt[g])  \n",
    "  \n",
    "  # swapping the pivot with the element of greater value  \n",
    "  (listt[g + 1], listt[high]) = (listt[high], listt[g + 1])  \n",
    "  \n",
    "  # returning the position from where the pivot is done  \n",
    "  return g + 1  \n",
    "  \n",
    "# defining a function to perform Quick Sort  \n",
    "def quickSortAlgo(listt, low, high):  \n",
    "    if low < high:  \n",
    "  \n",
    "        # searching the pivot for which elements on its left are smaller and elements on its right are greater  \n",
    "        p = pivot(listt, low, high)  \n",
    "  \n",
    "        # calling left pivot recursively  \n",
    "        quickSortAlgo(listt, low, p - 1)  \n",
    "  \n",
    "        # calling right pivot recursively  \n",
    "        quickSortAlgo(listt, p + 1, high)  \n",
    "  \n",
    "# Drivers code  \n",
    "listt = [3, 7, 2, 4, 9, 1, 0, 8]  \n",
    "  \n",
    "size = len(listt)  \n",
    "  \n",
    "quickSortAlgo(listt, 0, size - 1)  \n",
    "  \n",
    "print('Sorted List in Ascending Order:')  \n",
    "print(listt)  "
   ]
  },
  {
   "cell_type": "markdown",
   "id": "f649bced",
   "metadata": {},
   "source": [
    "## Counting Sort Algorithm"
   ]
  },
  {
   "cell_type": "markdown",
   "id": "e6753e63",
   "metadata": {},
   "source": [
    "### Python program to perform Counting Sort  "
   ]
  },
  {
   "cell_type": "code",
   "execution_count": 3,
   "id": "83e17557",
   "metadata": {},
   "outputs": [
    {
     "name": "stdout",
     "output_type": "stream",
     "text": [
      "Sorted list: \n",
      "[2, 2, 3, 4, 7, 7, 8, 9]\n"
     ]
    }
   ],
   "source": [
    "# Defining a function to perform Counting Sort  \n",
    "def countingSort(listt):  \n",
    "    s = len(listt)  \n",
    "    o = [0] * size  \n",
    "  \n",
    "    # Initializing the counting list  \n",
    "    c = [0] * 10  \n",
    "  \n",
    "    # Creating a list of counts of the elements  \n",
    "    for i in range(0, s):  \n",
    "        c[listt[i]] += 1  \n",
    "  \n",
    "    # Storing the cumulative count  \n",
    "    for j in range(1, 10):  \n",
    "        c[j] += c[j - 1]  \n",
    "  \n",
    "    # Finding the indices of every item of the initial list in the count list  \n",
    "    # placing the elements in the counting list  \n",
    "    j = s - 1  \n",
    "    while j >= 0:  \n",
    "        o[c[listt[j]] - 1] = listt[j]  \n",
    "        c[listt[j]] -= 1  \n",
    "        j -= 1  \n",
    "  \n",
    "    # Copying the sorted list elements into the original list  \n",
    "    for k in range(0, s):  \n",
    "        listt[k] = o[k]  \n",
    "  \n",
    "# Drivers code  \n",
    "listt = [3, 7, 9, 2, 4, 7, 2, 8]  \n",
    "countingSort(listt)  \n",
    "print(\"Sorted list: \")  \n",
    "print(listt)  "
   ]
  },
  {
   "cell_type": "code",
   "execution_count": null,
   "id": "553ec881",
   "metadata": {},
   "outputs": [],
   "source": []
  }
 ],
 "metadata": {
  "kernelspec": {
   "display_name": "Python 3 (ipykernel)",
   "language": "python",
   "name": "python3"
  },
  "language_info": {
   "codemirror_mode": {
    "name": "ipython",
    "version": 3
   },
   "file_extension": ".py",
   "mimetype": "text/x-python",
   "name": "python",
   "nbconvert_exporter": "python",
   "pygments_lexer": "ipython3",
   "version": "3.10.9"
  }
 },
 "nbformat": 4,
 "nbformat_minor": 5
}
