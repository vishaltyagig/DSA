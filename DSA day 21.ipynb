{
 "cells": [
  {
   "cell_type": "markdown",
   "id": "6425329d",
   "metadata": {},
   "source": [
    "## List"
   ]
  },
  {
   "cell_type": "code",
   "execution_count": 1,
   "id": "3f632536",
   "metadata": {},
   "outputs": [
    {
     "name": "stdout",
     "output_type": "stream",
     "text": [
      "[1, 2, 3, 'GFG', 2.3]\n"
     ]
    }
   ],
   "source": [
    "List = [1, 2,  3, \"GFG\", 2.3]\n",
    "print(List)"
   ]
  },
  {
   "cell_type": "code",
   "execution_count": 2,
   "id": "042aa486",
   "metadata": {},
   "outputs": [
    {
     "name": "stdout",
     "output_type": "stream",
     "text": [
      "\n",
      "List containing multiple values: \n",
      "['Geeks', 'For', 'Geeks']\n",
      "\n",
      "Multi-Dimensional List: \n",
      "[['Geeks', 'For'], ['Geeks']]\n",
      "Accessing element from the list\n",
      "Geeks\n",
      "Geeks\n",
      "Accessing element using negative indexing\n",
      "Geeks\n",
      "Geeks\n"
     ]
    }
   ],
   "source": [
    "# Creating a List with \n",
    "# the use of multiple values \n",
    "List = [\"Geeks\", \"For\", \"Geeks\"] \n",
    "print(\"\\nList containing multiple values: \") \n",
    "print(List)\n",
    "\n",
    "# Creating a Multi-Dimensional List \n",
    "# (By Nesting a list inside a List) \n",
    "List2 = [['Geeks', 'For'], ['Geeks']] \n",
    "print(\"\\nMulti-Dimensional List: \") \n",
    "print(List2) \n",
    "\n",
    "# accessing a element from the \n",
    "# list using index number \n",
    "print(\"Accessing element from the list\") \n",
    "print(List[0]) \n",
    "print(List[2]) \n",
    "\n",
    "# accessing a element using \n",
    "# negative indexing \n",
    "print(\"Accessing element using negative indexing\") \n",
    "\t\n",
    "# print the last element of list \n",
    "print(List[-1]) \n",
    "\t\n",
    "# print the third last element of list \n",
    "print(List[-3])"
   ]
  },
  {
   "cell_type": "code",
   "execution_count": 3,
   "id": "82779604",
   "metadata": {},
   "outputs": [
    {
     "name": "stdout",
     "output_type": "stream",
     "text": [
      "[1, 2, 3, 'Tyagi g', 4]\n"
     ]
    }
   ],
   "source": [
    "List = [1,2,3, \"Tyagi g\", 4]\n",
    "print(List)"
   ]
  },
  {
   "cell_type": "code",
   "execution_count": 4,
   "id": "0f6ae069",
   "metadata": {},
   "outputs": [
    {
     "name": "stdout",
     "output_type": "stream",
     "text": [
      "\n",
      "List containing multiple values: \n",
      "['Vishal', 'Tyagi', 'G']\n"
     ]
    }
   ],
   "source": [
    "# creating the list with using multiple values\n",
    "List = [\"Vishal\", \"Tyagi\", \"G\"]\n",
    "print(\"\\nList containing multiple values: \")\n",
    "print(List)"
   ]
  },
  {
   "cell_type": "code",
   "execution_count": 6,
   "id": "bddf175c",
   "metadata": {},
   "outputs": [
    {
     "name": "stdout",
     "output_type": "stream",
     "text": [
      "\n",
      "Multi-Dimensional List\n",
      "[['Vishal', 'Tyagi'], ['G']]\n"
     ]
    }
   ],
   "source": [
    "# creating a multidimensional list(by nesting a list inside a list).\n",
    "List2 = [[\"Vishal\", \"Tyagi\"],[\"G\"]]\n",
    "print(\"\\nMulti-Dimensional List\")\n",
    "print(List2)"
   ]
  },
  {
   "cell_type": "code",
   "execution_count": 8,
   "id": "43efd493",
   "metadata": {},
   "outputs": [
    {
     "name": "stdout",
     "output_type": "stream",
     "text": [
      "Accessing element from the list\n",
      "['Vishal', 'Tyagi']\n",
      "['G']\n"
     ]
    }
   ],
   "source": [
    "# Accessing a element from the list using index number.\n",
    "print(\"Accessing element from the list\")\n",
    "print(List[0])\n",
    "print(List[1])"
   ]
  },
  {
   "cell_type": "code",
   "execution_count": 9,
   "id": "80fc62ac",
   "metadata": {},
   "outputs": [
    {
     "name": "stdout",
     "output_type": "stream",
     "text": [
      "Accessing element using negative index\n"
     ]
    }
   ],
   "source": [
    "# Accessing a element using negative index\n",
    "print(\"Accessing element using negative index\")"
   ]
  },
  {
   "cell_type": "code",
   "execution_count": 10,
   "id": "f7b45495",
   "metadata": {},
   "outputs": [
    {
     "name": "stdout",
     "output_type": "stream",
     "text": [
      "['G']\n"
     ]
    }
   ],
   "source": [
    "# print the last element of the list\n",
    "print(List[-1])"
   ]
  },
  {
   "cell_type": "code",
   "execution_count": 13,
   "id": "a5d13f1f",
   "metadata": {},
   "outputs": [
    {
     "name": "stdout",
     "output_type": "stream",
     "text": [
      "['Vishal', 'Tyagi']\n"
     ]
    }
   ],
   "source": [
    "# print the Second last element of the list\n",
    "print(List[-2])"
   ]
  },
  {
   "cell_type": "code",
   "execution_count": null,
   "id": "669e6da7",
   "metadata": {},
   "outputs": [],
   "source": []
  }
 ],
 "metadata": {
  "kernelspec": {
   "display_name": "Python 3 (ipykernel)",
   "language": "python",
   "name": "python3"
  },
  "language_info": {
   "codemirror_mode": {
    "name": "ipython",
    "version": 3
   },
   "file_extension": ".py",
   "mimetype": "text/x-python",
   "name": "python",
   "nbconvert_exporter": "python",
   "pygments_lexer": "ipython3",
   "version": "3.10.9"
  }
 },
 "nbformat": 4,
 "nbformat_minor": 5
}
